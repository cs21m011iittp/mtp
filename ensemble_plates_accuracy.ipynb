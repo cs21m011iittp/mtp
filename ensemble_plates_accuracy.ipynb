{
  "cells": [
    {
      "cell_type": "code",
      "execution_count": null,
      "metadata": {
        "id": "ajo9wfyVKrUZ"
      },
      "outputs": [],
      "source": [
        "import os\n",
        "import pandas as pd\n",
        "import torch\n",
        "from torch import nn\n",
        "from torchvision import datasets\n",
        "import torchvision.utils as utils\n",
        "import torchvision.transforms as transforms\n",
        "from torchvision.io import read_image\n",
        "from pathlib import Path\n",
        "import torch.nn.functional as F\n",
        "from torch.utils.data import Dataset, DataLoader\n",
        "import PIL\n",
        "from pathlib import Path\n",
        "import numpy as np\n",
        "import pandas as pd\n",
        "import matplotlib.pyplot as plt\n",
        "from sklearn.metrics import accuracy_score, precision_score, recall_score, f1_score, confusion_matrix"
      ]
    },
    {
      "cell_type": "code",
      "execution_count": null,
      "metadata": {
        "colab": {
          "base_uri": "https://localhost:8080/"
        },
        "id": "8xWEvkvuKrPr",
        "outputId": "93a243b2-64da-4621-bae8-82ac32890397"
      },
      "outputs": [
        {
          "output_type": "stream",
          "name": "stdout",
          "text": [
            "Mounted at /content/drive\n"
          ]
        }
      ],
      "source": [
        "from google.colab import drive \n",
        "drive.mount('/content/drive')"
      ]
    },
    {
      "cell_type": "code",
      "execution_count": null,
      "metadata": {
        "id": "162Zg0HDKrOz"
      },
      "outputs": [],
      "source": [
        "!unzip -u '/content/drive/MyDrive/real_accuracy.zip' -d '/content/data1'\n",
        "\n",
        "from IPython. display import clear_output\n",
        "clear_output()"
      ]
    },
    {
      "cell_type": "markdown",
      "source": [
        "**creating a csv file with names of all images**"
      ],
      "metadata": {
        "id": "aiVe1FkyRQL5"
      }
    },
    {
      "cell_type": "code",
      "execution_count": null,
      "metadata": {
        "id": "x5opmTbJKrLw"
      },
      "outputs": [],
      "source": [
        "import os\n",
        "import csv\n",
        "\n",
        "# Replace \"folder_path\" with the path to the folder you want to list files from\n",
        "folder_path = \"/content/data1/real_accuracy\"\n",
        "\n",
        "# Get a list of all files in the folder\n",
        "file_names = os.listdir(folder_path)\n",
        "\n",
        "# Create a new CSV file called \"file_names.csv\"\n",
        "with open(\"annotations1.csv\", \"w\") as csv_file:\n",
        "    # Create a CSV writer object\n",
        "    csv_writer = csv.writer(csv_file)\n",
        "\n",
        "    # Write a header row to the CSV file\n",
        "    csv_writer.writerow([\"image\",'label'])\n",
        "\n",
        "    # Write the name of each file to a new row in the CSV file\n",
        "    for file_name in file_names:\n",
        "        csv_writer.writerow([file_name,1])\n",
        "        "
      ]
    },
    {
      "cell_type": "code",
      "execution_count": null,
      "metadata": {
        "id": "J0PrHVDPKrKw"
      },
      "outputs": [],
      "source": [
        "class CustomImageDataset(torch.utils.data.Dataset):\n",
        "    def __init__(self, annotations_file, img_dir, transform=None, target_transform=None):\n",
        "        self.img_labels = pd.read_csv(annotations_file)\n",
        "        self.img_dir = img_dir\n",
        "        self.transform = transform\n",
        "        self.target_transform = target_transform\n",
        "\n",
        "    def __len__(self):\n",
        "        return len(self.img_labels)\n",
        "\n",
        "    def __getitem__(self, idx):\n",
        "        img_path = os.path.join(self.img_dir, self.img_labels.iloc[idx, 0])\n",
        "        image = read_image(img_path)\n",
        "        label = self.img_labels.iloc[idx, 1]\n",
        "\n",
        "        if self.transform:\n",
        "            image = self.transform(image)\n",
        "        if self.target_transform:\n",
        "            label = self.target_transform(label)\n",
        "            \n",
        "        return image, label"
      ]
    },
    {
      "cell_type": "code",
      "execution_count": null,
      "metadata": {
        "colab": {
          "base_uri": "https://localhost:8080/"
        },
        "id": "PFkds4ytKrHw",
        "outputId": "e6a9c59a-c1d7-441a-bfed-94c763e1f0eb"
      },
      "outputs": [
        {
          "output_type": "execute_result",
          "data": {
            "text/plain": [
              "1182"
            ]
          },
          "metadata": {},
          "execution_count": 6
        }
      ],
      "source": [
        "data1=CustomImageDataset('/content/annotations1.csv','/content/data1/real_accuracy',\n",
        "                        transform=transforms.Compose([\n",
        "                        transforms.ToPILImage(),\n",
        "                        transforms.Resize(64),\n",
        "                        transforms.CenterCrop(256),\n",
        "                        transforms.ToTensor(),\n",
        "                        transforms.Normalize((0.5, 0.5, 0.5), (0.5, 0.5, 0.5))\n",
        "                      ]))\n",
        "\n",
        "len(data1)"
      ]
    },
    {
      "cell_type": "code",
      "execution_count": null,
      "metadata": {
        "id": "HoY8ohx9KrGy"
      },
      "outputs": [],
      "source": [
        "train_data1,test_data1=torch.utils.data.random_split(data1,[950,232])\n",
        "\n",
        "train_loader1=DataLoader(train_data1, batch_size=32, shuffle=True)\n",
        "test_loader1=DataLoader(test_data1, batch_size=32, shuffle=True)"
      ]
    },
    {
      "cell_type": "code",
      "execution_count": null,
      "metadata": {
        "colab": {
          "base_uri": "https://localhost:8080/",
          "height": 36
        },
        "id": "r9fx0s87KrDs",
        "outputId": "4e70926c-315a-42c5-86b3-eba328b30e88"
      },
      "outputs": [
        {
          "output_type": "execute_result",
          "data": {
            "text/plain": [
              "'cuda'"
            ],
            "application/vnd.google.colaboratory.intrinsic+json": {
              "type": "string"
            }
          },
          "metadata": {},
          "execution_count": 8
        }
      ],
      "source": [
        "device='cuda' if torch.cuda.is_available() else 'cpu'\n",
        "device"
      ]
    },
    {
      "cell_type": "code",
      "execution_count": null,
      "metadata": {
        "id": "U6od6xTkKrC4"
      },
      "outputs": [],
      "source": [
        "learning_rate1=1e-4\n",
        "\n",
        "num_epochs1=10\n",
        "nc=3\n",
        "ndf=64\n",
        "batch_size=32"
      ]
    },
    {
      "cell_type": "markdown",
      "source": [
        "# Model1 for real image classification"
      ],
      "metadata": {
        "id": "p8NKvEf6kWE6"
      }
    },
    {
      "cell_type": "code",
      "execution_count": null,
      "metadata": {
        "id": "qnGN-W18Kq_k"
      },
      "outputs": [],
      "source": [
        "class AccuracyCheck1(nn.Module):\n",
        "    def __init__(self):\n",
        "        super(AccuracyCheck1,self).__init__()\n",
        "\n",
        "        self.m=nn.Softmax(dim=1)\n",
        "\n",
        "        self.maxpool=nn.MaxPool2d(2,2)\n",
        "\n",
        "        self.conv1=nn.Conv2d(3,32,2) \n",
        "        self.conv2=nn.Conv2d(32,64,2)\n",
        "        self.conv3=nn.Conv2d(64,128,2)\n",
        "        self.conv4=nn.Conv2d(128,50,2)\n",
        "        self.conv5=nn.Conv2d(50,20,2)\n",
        "\n",
        "        self.fc1=nn.Linear(20*7*7,10)\n",
        "        self.fc2=nn.Linear(10,3)\n",
        "\n",
        "    def forward(self, x):\n",
        "        x=self.maxpool(F.relu(self.conv1(x)))\n",
        "        x=self.maxpool(F.relu(self.conv2(x)))\n",
        "        x=self.maxpool(F.relu(self.conv3(x)))\n",
        "        x=self.maxpool(F.relu(self.conv4(x)))\n",
        "        x=self.maxpool(F.relu(self.conv5(x)))\n",
        "\n",
        "        x=x.view(-1, 20*7*7)\n",
        "\n",
        "        x = torch.relu(self.fc1(x))\n",
        "        x = self.fc2(x)\n",
        "        x=self.m(x)\n",
        "\n",
        "        return x"
      ]
    },
    {
      "cell_type": "code",
      "execution_count": null,
      "metadata": {
        "id": "HjZmiSAuKq-s"
      },
      "outputs": [],
      "source": [
        "model1=AccuracyCheck1().to(device)"
      ]
    },
    {
      "cell_type": "code",
      "execution_count": null,
      "metadata": {
        "id": "SxS8cX51Kq7L"
      },
      "outputs": [],
      "source": [
        "optimizer1=torch.optim.Adam(model1.parameters(),lr=learning_rate1)"
      ]
    },
    {
      "cell_type": "code",
      "execution_count": null,
      "metadata": {
        "id": "p5m0wu9vKq6T"
      },
      "outputs": [],
      "source": [
        "def criterion1(y_pred,y):\n",
        "    v=-(y*torch.log(y_pred+1e-5))\n",
        "    v=torch.sum(v)\n",
        "    return v"
      ]
    },
    {
      "cell_type": "code",
      "execution_count": null,
      "metadata": {
        "colab": {
          "base_uri": "https://localhost:8080/"
        },
        "id": "XipRJ4oRKq2K",
        "outputId": "8aa69a58-f3e2-4e2e-c7c9-23045d83480e"
      },
      "outputs": [
        {
          "output_type": "stream",
          "name": "stdout",
          "text": [
            "input size:  torch.Size([3, 256, 256])\n",
            "output:  tensor([[0.3119, 0.3945, 0.2936]], device='cuda:0', grad_fn=<SoftmaxBackward0>)\n",
            "y:  1\n",
            "loss value:  3.320631980895996\n"
          ]
        }
      ],
      "source": [
        "x,y=train_data1[2]\n",
        "print('input size: ',x.shape)\n",
        "\n",
        "x=x.to(device)\n",
        "output=model1(x)\n",
        "#print('output size: ',output.shape)\n",
        "\n",
        "print('output: ',output)\n",
        "print('y: ',y)\n",
        "\n",
        "\n",
        "loss=criterion1(output, y)\n",
        "print('loss value: ',loss.item())"
      ]
    },
    {
      "cell_type": "code",
      "execution_count": null,
      "metadata": {
        "id": "QmVPc3iMLQGL"
      },
      "outputs": [],
      "source": [
        "import os\n",
        "\n",
        "directory = \"/content/data1/real_accuracy\"\n",
        "for file in os.listdir(directory):\n",
        "    file_path = os.path.join(directory, file)\n",
        "    if os.path.isfile(file_path):\n",
        "        file_extension = os.path.splitext(file_path)[1]\n",
        "        if(file_extension=='.png' or file_extension=='.jpg'):\n",
        "            continue\n",
        "        else:\n",
        "            print(file_extension)"
      ]
    },
    {
      "cell_type": "code",
      "execution_count": null,
      "metadata": {
        "id": "wrJvpaJPdnJ5",
        "colab": {
          "base_uri": "https://localhost:8080/"
        },
        "outputId": "f67660d4-1174-4dda-9a4c-4ff20ca86874"
      },
      "outputs": [
        {
          "output_type": "stream",
          "name": "stdout",
          "text": [
            "30\n"
          ]
        }
      ],
      "source": [
        "n_total_steps=len(train_loader1)\n",
        "print(n_total_steps)\n"
      ]
    },
    {
      "cell_type": "code",
      "source": [
        "def train_network1(train_loader,optimizer,criterion,num_epochs):\n",
        "      for epoch in range(num_epochs):\n",
        "            train_loss=0.0\n",
        "\n",
        "            for i,data in enumerate(train_loader,0):\n",
        "                images,labels=data\n",
        "                images=images.to(device)\n",
        "                labels=labels.to(device)\n",
        "\n",
        "                optimizer.zero_grad()\n",
        "\n",
        "                outputs=model1(images)\n",
        "                #print(outputs.shape,labels.shape)\n",
        "\n",
        "                onehot=torch.nn.functional.one_hot(labels,num_classes=3)\n",
        "                # print(outputs)\n",
        "                # print(onehot)\n",
        "          \n",
        "                #loss function\n",
        "                loss=criterion(outputs,onehot)\n",
        "                loss.backward()    #finding the derivative of loss function wrt to coefficients\n",
        "\n",
        "                optimizer.step()        #calulating the gradients\n",
        "\n",
        "                train_loss+=loss\n",
        "\n",
        "                #print statistics\n",
        "                if((i+1)%30==0):\n",
        "                    print(f'Epoch [{epoch+1}/{num_epochs}], Step [{i+1}/{n_total_steps}], Loss: {train_loss:.4f}')"
      ],
      "metadata": {
        "id": "IusIuggguPYz"
      },
      "execution_count": null,
      "outputs": []
    },
    {
      "cell_type": "code",
      "source": [
        "train_network1(train_loader1,optimizer1,criterion1,num_epochs1)"
      ],
      "metadata": {
        "id": "UrW6qE72uT-R",
        "colab": {
          "base_uri": "https://localhost:8080/"
        },
        "outputId": "3f1f10c4-b7e5-4466-da25-c13172b517b1"
      },
      "execution_count": null,
      "outputs": [
        {
          "output_type": "stream",
          "name": "stdout",
          "text": [
            "Epoch [1/10], Step [30/30], Loss: 872.8134\n",
            "Epoch [2/10], Step [30/30], Loss: 656.2131\n",
            "Epoch [3/10], Step [30/30], Loss: 52.4124\n",
            "Epoch [4/10], Step [30/30], Loss: 0.3591\n",
            "Epoch [5/10], Step [30/30], Loss: 0.1531\n",
            "Epoch [6/10], Step [30/30], Loss: 0.1115\n",
            "Epoch [7/10], Step [30/30], Loss: 0.0840\n",
            "Epoch [8/10], Step [30/30], Loss: 0.0634\n",
            "Epoch [9/10], Step [30/30], Loss: 0.0429\n",
            "Epoch [10/10], Step [30/30], Loss: 0.0236\n"
          ]
        }
      ]
    },
    {
      "cell_type": "code",
      "source": [
        "def test_model1(test_loader,model,criterion):\n",
        "\n",
        "    model.eval()\n",
        "    test_loss,correct=0,0\n",
        "    num_batches=len(test_loader)\n",
        "    size=len(test_loader.dataset)\n",
        "\n",
        "    y_true = []\n",
        "    y_pred = []\n",
        "\n",
        "    with torch.no_grad():\n",
        "        for X,y in test_loader:\n",
        "            X=X.to(device)\n",
        "            y=y.to(device)\n",
        "            tmp=torch.nn.functional.one_hot(y,num_classes=3)\n",
        "\n",
        "            outputs=model(X)\n",
        "\n",
        "            test_loss=test_loss+criterion(outputs,tmp).item()\n",
        "            pred = outputs.argmax(dim=1, keepdim=True)\n",
        "\n",
        "            correct += pred.eq(y.view_as(pred)).sum().item()\n",
        "\n",
        "            y_true.extend(y.tolist())\n",
        "            y_pred.extend(pred.view_as(y).tolist())\n",
        "            \n",
        "    test_loss=test_loss/num_batches\n",
        "    correct=correct/size\n",
        "\n",
        "    accuracy = accuracy_score(y_true, y_pred)\n",
        "    precision = precision_score(y_true, y_pred, average='macro')\n",
        "    recall = recall_score(y_true, y_pred, average='macro')\n",
        "    f1 = f1_score(y_true, y_pred, average='macro')\n",
        "    cm = confusion_matrix(y_true, y_pred)\n",
        "\n",
        "    return accuracy,precision,recall,f1,cm"
      ],
      "metadata": {
        "id": "xxrAoI0huXs7"
      },
      "execution_count": null,
      "outputs": []
    },
    {
      "cell_type": "code",
      "source": [
        "a,p,r,f1,cm=test_model1(test_loader1,model1,criterion1)\n",
        "\n",
        "print(f'accuracy: {a:.4f}')\n",
        "print(f'precision: {p:.4f}')\n",
        "print(f'recall: {r:.4f}')\n",
        "print(f'F1 score: {f1:.4f}')"
      ],
      "metadata": {
        "id": "m5o36tpiuXeR",
        "colab": {
          "base_uri": "https://localhost:8080/"
        },
        "outputId": "f3969229-1b90-494b-84e5-86883fe5e1b6"
      },
      "execution_count": null,
      "outputs": [
        {
          "output_type": "stream",
          "name": "stdout",
          "text": [
            "accuracy: 1.0000\n",
            "precision: 1.0000\n",
            "recall: 1.0000\n",
            "F1 score: 1.0000\n"
          ]
        }
      ]
    },
    {
      "cell_type": "code",
      "source": [
        "import seaborn as sns\n",
        "\n",
        "sns.set()\n",
        "sns.heatmap(cm, annot=True, cmap=\"Blues\", fmt=\"d\", xticklabels=[\"Class 0\", \"Class 1\"], yticklabels=[\"Class 0\", \"Class 1\"])\n",
        "plt.xlabel(\"Predicted label\")\n",
        "plt.ylabel(\"True label\")\n",
        "plt.show()"
      ],
      "metadata": {
        "id": "mdtl1kuNuXdS",
        "colab": {
          "base_uri": "https://localhost:8080/",
          "height": 458
        },
        "outputId": "7a99b318-98ae-4436-f993-fde3844017b8"
      },
      "execution_count": null,
      "outputs": [
        {
          "output_type": "display_data",
          "data": {
            "text/plain": [
              "<Figure size 640x480 with 2 Axes>"
            ],
            "image/png": "[encoded data removed]"
          },
          "metadata": {}
        }
      ]
    },
    {
      "cell_type": "markdown",
      "source": [
        "# Model3 for real images"
      ],
      "metadata": {
        "id": "VVhQ-FQLq1q3"
      }
    },
    {
      "cell_type": "code",
      "source": [
        "class AccuracyCheck3(nn.Module):\n",
        "    def __init__(self):\n",
        "        super(AccuracyCheck3,self).__init__()\n",
        "\n",
        "        self.m=nn.Softmax(dim=1)\n",
        "\n",
        "        self.fc1=nn.Linear(3*256*256,100)\n",
        "        self.fc2=nn.Linear(100,10)\n",
        "        self.fc3=nn.Linear(10,3)\n",
        "\n",
        "    def forward(self, x):\n",
        "        x=x.view(-1,3*256*256)\n",
        "\n",
        "        x = torch.relu(self.fc1(x))\n",
        "        x = torch.relu(self.fc2(x))\n",
        "        x = self.fc3(x)\n",
        "        x=self.m(x)\n",
        "\n",
        "        return x"
      ],
      "metadata": {
        "id": "-KhM5_X0oiQb"
      },
      "execution_count": null,
      "outputs": []
    },
    {
      "cell_type": "code",
      "source": [
        "learning_rate3=3e-4\n",
        "model3=AccuracyCheck3().to(device)"
      ],
      "metadata": {
        "id": "TQHaRpH3oiOa"
      },
      "execution_count": null,
      "outputs": []
    },
    {
      "cell_type": "code",
      "source": [
        "optimizer3=torch.optim.Adam(model3.parameters(),lr=learning_rate3)"
      ],
      "metadata": {
        "id": "oY4jbZupoiMd"
      },
      "execution_count": null,
      "outputs": []
    },
    {
      "cell_type": "code",
      "source": [
        "x,y=train_data1[2]\n",
        "print('input size: ',x.shape)\n",
        "\n",
        "x=x.to(device)\n",
        "output=model3(x)\n",
        "#print('output size: ',output.shape)\n",
        "\n",
        "print('output: ',output)\n",
        "print('y: ',y)\n",
        "\n",
        "\n",
        "loss=criterion1(output, y)\n",
        "print('loss value: ',loss.item())"
      ],
      "metadata": {
        "colab": {
          "base_uri": "https://localhost:8080/"
        },
        "id": "k8wUoB01qFKW",
        "outputId": "e41fd949-9ea4-4acf-ef86-b71ae9726067"
      },
      "execution_count": null,
      "outputs": [
        {
          "output_type": "stream",
          "name": "stdout",
          "text": [
            "input size:  torch.Size([3, 256, 256])\n",
            "output:  tensor([[0.3858, 0.3598, 0.2545]], device='cuda:0', grad_fn=<SoftmaxBackward0>)\n",
            "y:  1\n",
            "loss value:  3.3433244228363037\n"
          ]
        }
      ]
    },
    {
      "cell_type": "code",
      "source": [
        "def train_network3(train_loader,optimizer,criterion,num_epochs):\n",
        "      for epoch in range(num_epochs):\n",
        "            train_loss=0.0\n",
        "\n",
        "            for i,data in enumerate(train_loader,0):\n",
        "                images,labels=data\n",
        "                images=images.to(device)\n",
        "                labels=labels.to(device)\n",
        "\n",
        "                optimizer.zero_grad()\n",
        "\n",
        "                outputs=model3(images)\n",
        "                #print(outputs.shape,labels.shape)\n",
        "                #print(outputs)\n",
        "\n",
        "                onehot=torch.nn.functional.one_hot(labels,num_classes=3)\n",
        "                # print(outputs)\n",
        "                # print(onehot)\n",
        "          \n",
        "                #loss function\n",
        "                loss=criterion(outputs,onehot)\n",
        "                loss.backward()    #finding the derivative of loss function wrt to coefficients\n",
        "\n",
        "                optimizer.step()        #calulating the gradients\n",
        "\n",
        "                train_loss+=loss\n",
        "\n",
        "                #print statistics\n",
        "                if((i+1)%30==0):\n",
        "                    print(f'Epoch [{epoch+1}/{num_epochs}], Step [{i+1}/{n_total_steps}], Loss: {train_loss:.4f}')"
      ],
      "metadata": {
        "id": "FPyK2sLRoiKG"
      },
      "execution_count": null,
      "outputs": []
    },
    {
      "cell_type": "code",
      "source": [
        "train_network3(train_loader1,optimizer3,criterion1,num_epochs1)"
      ],
      "metadata": {
        "colab": {
          "base_uri": "https://localhost:8080/"
        },
        "id": "wlSdKvqFoiH2",
        "outputId": "dfe9b9b8-868d-4ffe-81b2-7512183bb8b9"
      },
      "execution_count": null,
      "outputs": [
        {
          "output_type": "stream",
          "name": "stdout",
          "text": [
            "Epoch [1/10], Step [30/30], Loss: 61.9471\n",
            "Epoch [2/10], Step [30/30], Loss: -0.0095\n",
            "Epoch [3/10], Step [30/30], Loss: -0.0095\n",
            "Epoch [4/10], Step [30/30], Loss: -0.0095\n",
            "Epoch [5/10], Step [30/30], Loss: -0.0095\n",
            "Epoch [6/10], Step [30/30], Loss: -0.0095\n",
            "Epoch [7/10], Step [30/30], Loss: -0.0095\n",
            "Epoch [8/10], Step [30/30], Loss: -0.0095\n",
            "Epoch [9/10], Step [30/30], Loss: -0.0095\n",
            "Epoch [10/10], Step [30/30], Loss: -0.0095\n"
          ]
        }
      ]
    },
    {
      "cell_type": "code",
      "source": [
        "def test_model3(test_loader,model,criterion):\n",
        "\n",
        "    model.eval()\n",
        "    test_loss,correct=0,0\n",
        "    num_batches=len(test_loader)\n",
        "    size=len(test_loader.dataset)\n",
        "\n",
        "    y_true = []\n",
        "    y_pred = []\n",
        "\n",
        "    with torch.no_grad():\n",
        "        for X,y in test_loader:\n",
        "            X=X.to(device)\n",
        "            y=y.to(device)\n",
        "            tmp=torch.nn.functional.one_hot(y,num_classes=3)\n",
        "\n",
        "            outputs=model3(X)\n",
        "\n",
        "            test_loss=test_loss+criterion(outputs,tmp).item()\n",
        "            pred = outputs.argmax(dim=1, keepdim=True)\n",
        "\n",
        "            correct += pred.eq(y.view_as(pred)).sum().item()\n",
        "\n",
        "            y_true.extend(y.tolist())\n",
        "            y_pred.extend(pred.view_as(y).tolist())\n",
        "            \n",
        "    test_loss=test_loss/num_batches\n",
        "    correct=correct/size\n",
        "\n",
        "    accuracy = accuracy_score(y_true, y_pred)\n",
        "    precision = precision_score(y_true, y_pred, average='macro')\n",
        "    recall = recall_score(y_true, y_pred, average='macro')\n",
        "    f1 = f1_score(y_true, y_pred, average='macro')\n",
        "    cm = confusion_matrix(y_true, y_pred)\n",
        "\n",
        "    return accuracy,precision,recall,f1,cm"
      ],
      "metadata": {
        "id": "Q1LwFntRpFi-"
      },
      "execution_count": null,
      "outputs": []
    },
    {
      "cell_type": "code",
      "source": [
        "a,p,r,f1,cm=test_model3(test_loader1,model3,criterion1)\n",
        "\n",
        "print(f'accuracy: {a:.4f}')\n",
        "print(f'precision: {p:.4f}')\n",
        "print(f'recall: {r:.4f}')\n",
        "print(f'F1 score: {f1:.4f}')"
      ],
      "metadata": {
        "colab": {
          "base_uri": "https://localhost:8080/"
        },
        "id": "8qIZFi5VoiFS",
        "outputId": "261ff94b-fa63-4570-9e5f-242cd3c6ceb4"
      },
      "execution_count": null,
      "outputs": [
        {
          "output_type": "stream",
          "name": "stdout",
          "text": [
            "accuracy: 1.0000\n",
            "precision: 1.0000\n",
            "recall: 1.0000\n",
            "F1 score: 1.0000\n"
          ]
        }
      ]
    },
    {
      "cell_type": "code",
      "source": [
        "import seaborn as sns\n",
        "\n",
        "sns.set()\n",
        "sns.heatmap(cm, annot=True, cmap=\"Blues\", fmt=\"d\", xticklabels=[\"Class 0\", \"Class 1\"], yticklabels=[\"Class 0\", \"Class 1\"])\n",
        "plt.xlabel(\"Predicted label\")\n",
        "plt.ylabel(\"True label\")\n",
        "plt.show()"
      ],
      "metadata": {
        "colab": {
          "base_uri": "https://localhost:8080/",
          "height": 458
        },
        "id": "FWygZ5TqoiDH",
        "outputId": "08a4367c-e01b-4a4a-b533-60f4cae09ee4"
      },
      "execution_count": null,
      "outputs": [
        {
          "output_type": "display_data",
          "data": {
            "text/plain": [
              "<Figure size 640x480 with 2 Axes>"
            ],
            "image/png": "[encoded data removed]"
          },
          "metadata": {}
        }
      ]
    },
    {
      "cell_type": "markdown",
      "source": [
        "#Ensemble model for real images"
      ],
      "metadata": {
        "id": "T4OmvnaSt2bm"
      }
    },
    {
      "cell_type": "code",
      "source": [
        "class EnsembleModel(nn.Module):\n",
        "    def __init__(self,modelA,modelB):\n",
        "        super(EnsembleModel, self).__init__()\n",
        "        \n",
        "        self.modelA = modelA\n",
        "        self.modelB = modelB\n",
        "        #self.modelC = modelC\n",
        "\n",
        "        self.fc = nn.Linear(6,2)\n",
        "    \n",
        "    def forward(self, x):\n",
        "        outA = self.modelA(x)\n",
        "        outB = self.modelB(x)\n",
        "        #outC = self.modelC(x)\n",
        "\n",
        "        out = torch.cat((outA, outB), dim=1)\n",
        "        out = self.fc(out)\n",
        "        return out"
      ],
      "metadata": {
        "id": "4k-Me6OHt1lO"
      },
      "execution_count": null,
      "outputs": []
    },
    {
      "cell_type": "code",
      "source": [
        "model_ar=AccuracyCheck1().to(device)\n",
        "model_br=AccuracyCheck3().to(device)\n",
        "#model_c=AccuracyCheck3().to(device)"
      ],
      "metadata": {
        "id": "PacvyOjet1jI"
      },
      "execution_count": null,
      "outputs": []
    },
    {
      "cell_type": "code",
      "source": [
        "ensemble = EnsembleModel(model_ar,model_br).to(device)"
      ],
      "metadata": {
        "id": "woB2_fehuKeG"
      },
      "execution_count": null,
      "outputs": []
    },
    {
      "cell_type": "code",
      "source": [
        "optimizer = torch.optim.SGD(ensemble.parameters(), lr=0.01)"
      ],
      "metadata": {
        "id": "Z9XoWl2Xt1gG"
      },
      "execution_count": null,
      "outputs": []
    },
    {
      "cell_type": "code",
      "source": [
        "train_data,test_data=torch.utils.data.random_split(data1,[950,232])\n",
        "\n",
        "train_loader=DataLoader(train_data1, batch_size=32, shuffle=True)\n",
        "test_loader=DataLoader(test_data1, batch_size=32, shuffle=True)"
      ],
      "metadata": {
        "id": "WSY2eh3Et1dc"
      },
      "execution_count": null,
      "outputs": []
    },
    {
      "cell_type": "code",
      "source": [
        "import math\n",
        "\n",
        "def lossFunction(y_pred,y):\n",
        "    y_pred[y_pred<0]=-y_pred[y_pred<0]\n",
        "\n",
        "    v=-(y*torch.log(y_pred+0.0001))\n",
        "    v=torch.sum(v)\n",
        "    return v"
      ],
      "metadata": {
        "id": "Q4hRJ4pRt1ar"
      },
      "execution_count": null,
      "outputs": []
    },
    {
      "cell_type": "code",
      "source": [
        "x,y=train_data[19]\n",
        "print('input size: ',x.shape)\n",
        "\n",
        "x=x.to(device)\n",
        "\n",
        "output=ensemble(x)\n",
        "print('output size: ',output.shape)\n",
        "print('output: ',output)\n",
        "print('y: ',y)\n",
        "\n",
        "y= np.array([y])\n",
        "y=torch.from_numpy(y)\n",
        "y=y.to(device)\n",
        "\n",
        "loss=lossFunction(output, y)\n",
        "print('loss value: ',loss.item())"
      ],
      "metadata": {
        "colab": {
          "base_uri": "https://localhost:8080/"
        },
        "id": "dcnKJ0yNt1YQ",
        "outputId": "b869f3ee-1913-48c0-bac3-a63275ac0bcd"
      },
      "execution_count": null,
      "outputs": [
        {
          "output_type": "stream",
          "name": "stdout",
          "text": [
            "input size:  torch.Size([3, 256, 256])\n",
            "output size:  torch.Size([1, 2])\n",
            "output:  tensor([[-0.0732,  0.3023]], device='cuda:0', grad_fn=<AddmmBackward0>)\n",
            "y:  1\n",
            "loss value:  3.809448719024658\n"
          ]
        }
      ]
    },
    {
      "cell_type": "code",
      "source": [
        "steps=len(train_loader)\n",
        "steps"
      ],
      "metadata": {
        "colab": {
          "base_uri": "https://localhost:8080/"
        },
        "id": "pFKs788Tt1V3",
        "outputId": "a1a16aed-f511-443a-966f-822e5aa2b917"
      },
      "execution_count": null,
      "outputs": [
        {
          "output_type": "execute_result",
          "data": {
            "text/plain": [
              "30"
            ]
          },
          "metadata": {},
          "execution_count": 38
        }
      ]
    },
    {
      "cell_type": "code",
      "source": [
        "def train_real(model,optimizer,criterion,train_loader,num_epochs):\n",
        "    model.train()\n",
        "    train_loss=0.0\n",
        "    \n",
        "    for epoch in range(num_epochs):\n",
        "        for i,data in enumerate(train_loader,0):\n",
        "            images,labels=data\n",
        "            \n",
        "            images=images.to(device)\n",
        "            labels=labels.to(device)\n",
        "\n",
        "            optimizer.zero_grad()\n",
        "            outputs = model(images)\n",
        "            #print(outputs.shape,labels.shape)\n",
        "\n",
        "            onehot=torch.nn.functional.one_hot(labels,num_classes=2)\n",
        "\n",
        "            loss = criterion(outputs,onehot)\n",
        "            train_loss+=loss\n",
        "\n",
        "            loss.backward()\n",
        "            optimizer.step()\n",
        "\n",
        "            #print statistics\n",
        "            if((i+1)%25==0):\n",
        "                print(f'Epoch [{epoch+1}/{num_epochs}], Step [{i+1}/{steps}], Loss: {train_loss:.4f}')"
      ],
      "metadata": {
        "id": "eA_bPKWFt1Tm"
      },
      "execution_count": null,
      "outputs": []
    },
    {
      "cell_type": "code",
      "source": [
        "train_real(ensemble,optimizer,lossFunction,train_loader,num_epochs=50)"
      ],
      "metadata": {
        "colab": {
          "base_uri": "https://localhost:8080/"
        },
        "id": "txKJWhg3t1Qv",
        "outputId": "f5c5169b-3315-4950-cbb4-0fe83a3bb306"
      },
      "execution_count": null,
      "outputs": [
        {
          "output_type": "stream",
          "name": "stdout",
          "text": [
            "Epoch [1/50], Step [25/30], Loss: -1116.9105\n",
            "Epoch [2/50], Step [25/30], Loss: -3101.4822\n",
            "Epoch [3/50], Step [25/30], Loss: -5376.8291\n",
            "Epoch [4/50], Step [25/30], Loss: -7838.1294\n",
            "Epoch [5/50], Step [25/30], Loss: -10432.0664\n",
            "Epoch [6/50], Step [25/30], Loss: -13129.3955\n",
            "Epoch [7/50], Step [25/30], Loss: -15911.5029\n",
            "Epoch [8/50], Step [25/30], Loss: -18765.4922\n",
            "Epoch [9/50], Step [25/30], Loss: -21681.8633\n",
            "Epoch [10/50], Step [25/30], Loss: -24653.3672\n",
            "Epoch [11/50], Step [25/30], Loss: -27674.2441\n",
            "Epoch [12/50], Step [25/30], Loss: -30739.8398\n",
            "Epoch [13/50], Step [25/30], Loss: -33846.2891\n",
            "Epoch [14/50], Step [25/30], Loss: -36990.3594\n",
            "Epoch [15/50], Step [25/30], Loss: -40169.2891\n",
            "Epoch [16/50], Step [25/30], Loss: -43380.6680\n",
            "Epoch [17/50], Step [25/30], Loss: -46622.4570\n",
            "Epoch [18/50], Step [25/30], Loss: -49892.8047\n",
            "Epoch [19/50], Step [25/30], Loss: -53190.0820\n",
            "Epoch [20/50], Step [25/30], Loss: -56512.8555\n",
            "Epoch [21/50], Step [25/30], Loss: -59859.8164\n",
            "Epoch [22/50], Step [25/30], Loss: -63229.8047\n",
            "Epoch [23/50], Step [25/30], Loss: -66621.7500\n",
            "Epoch [24/50], Step [25/30], Loss: -70034.6484\n",
            "Epoch [25/50], Step [25/30], Loss: -73467.6641\n",
            "Epoch [26/50], Step [25/30], Loss: -76919.9609\n",
            "Epoch [27/50], Step [25/30], Loss: -80390.7891\n",
            "Epoch [28/50], Step [25/30], Loss: -83879.4453\n",
            "Epoch [29/50], Step [25/30], Loss: -87385.2812\n",
            "Epoch [30/50], Step [25/30], Loss: -90907.6953\n",
            "Epoch [31/50], Step [25/30], Loss: -94446.1328\n",
            "Epoch [32/50], Step [25/30], Loss: -98000.0859\n",
            "Epoch [33/50], Step [25/30], Loss: -101569.0391\n",
            "Epoch [34/50], Step [25/30], Loss: -105152.5547\n",
            "Epoch [35/50], Step [25/30], Loss: -108750.1328\n",
            "Epoch [36/50], Step [25/30], Loss: -112361.4688\n",
            "Epoch [37/50], Step [25/30], Loss: -115986.1328\n",
            "Epoch [38/50], Step [25/30], Loss: -119623.7578\n",
            "Epoch [39/50], Step [25/30], Loss: -123274.0078\n",
            "Epoch [40/50], Step [25/30], Loss: -126936.5625\n",
            "Epoch [41/50], Step [25/30], Loss: -130611.0781\n",
            "Epoch [42/50], Step [25/30], Loss: -134297.2969\n",
            "Epoch [43/50], Step [25/30], Loss: -137994.8750\n",
            "Epoch [44/50], Step [25/30], Loss: -141703.6406\n",
            "Epoch [45/50], Step [25/30], Loss: -145423.2656\n",
            "Epoch [46/50], Step [25/30], Loss: -149153.5312\n",
            "Epoch [47/50], Step [25/30], Loss: -152894.2188\n",
            "Epoch [48/50], Step [25/30], Loss: -156645.0938\n",
            "Epoch [49/50], Step [25/30], Loss: -160405.9375\n",
            "Epoch [50/50], Step [25/30], Loss: -164176.5469\n"
          ]
        }
      ]
    },
    {
      "cell_type": "code",
      "source": [
        "def test_real(test_loader,model,criterion):\n",
        "\n",
        "    model.eval()\n",
        "    test_loss,correct=0,0\n",
        "    num_batches=len(test_loader)\n",
        "    size=len(test_loader.dataset)\n",
        "\n",
        "    y_true = []\n",
        "    y_pred = []\n",
        "\n",
        "    with torch.no_grad():\n",
        "        for X,y in test_loader:\n",
        "            X=X.to(device)\n",
        "            y=y.to(device)\n",
        "            tmp=torch.nn.functional.one_hot(y,num_classes=2)\n",
        "\n",
        "            outputs=model(X)\n",
        "\n",
        "            test_loss=test_loss+criterion(outputs,tmp).item()\n",
        "            pred = outputs.argmax(dim=1, keepdim=True)\n",
        "\n",
        "            correct += pred.eq(y.view_as(pred)).sum().item()\n",
        "\n",
        "            y_true.extend(y.tolist())\n",
        "            y_pred.extend(pred.view_as(y).tolist())\n",
        "            \n",
        "    test_loss=test_loss/num_batches\n",
        "    correct=correct/size\n",
        "\n",
        "    accuracy = accuracy_score(y_true, y_pred)\n",
        "    precision = precision_score(y_true, y_pred, average='macro')\n",
        "    recall = recall_score(y_true, y_pred, average='macro')\n",
        "    f1 = f1_score(y_true, y_pred, average='macro')\n",
        "    cm = confusion_matrix(y_true, y_pred)\n",
        "\n",
        "    return accuracy,precision,recall,f1,cm"
      ],
      "metadata": {
        "id": "_sbU58N3t1OG"
      },
      "execution_count": null,
      "outputs": []
    },
    {
      "cell_type": "code",
      "source": [
        "a,p,r,f1,cm=test_real(test_loader,ensemble,lossFunction)\n",
        "\n",
        "print(f'accuracy: {a:.4f}')\n",
        "print(f'precision: {p:.4f}')\n",
        "print(f'recall: {r:.4f}')\n",
        "print(f'F1 score: {f1:.4f}')"
      ],
      "metadata": {
        "colab": {
          "base_uri": "https://localhost:8080/"
        },
        "id": "6q83QWueuhtF",
        "outputId": "e294af69-2d5c-4044-cafa-b186ccb2167a"
      },
      "execution_count": null,
      "outputs": [
        {
          "output_type": "stream",
          "name": "stdout",
          "text": [
            "accuracy: 1.0000\n",
            "precision: 1.0000\n",
            "recall: 1.0000\n",
            "F1 score: 1.0000\n"
          ]
        }
      ]
    },
    {
      "cell_type": "code",
      "source": [
        "import seaborn as sns\n",
        "\n",
        "sns.set()\n",
        "sns.heatmap(cm, annot=True, cmap=\"Blues\", fmt=\"d\", xticklabels=[\"Class 0\", \"Class 1\"], yticklabels=[\"Class 0\", \"Class 1\"])\n",
        "plt.xlabel(\"Predicted label\")\n",
        "plt.ylabel(\"True label\")\n",
        "plt.show()"
      ],
      "metadata": {
        "colab": {
          "base_uri": "https://localhost:8080/",
          "height": 458
        },
        "id": "VRe5iK0RuhqA",
        "outputId": "f2adae97-a459-4d7a-9d55-fca675e62126"
      },
      "execution_count": null,
      "outputs": [
        {
          "output_type": "display_data",
          "data": {
            "text/plain": [
              "<Figure size 640x480 with 2 Axes>"
            ],
            "image/png": "[encoded data removed]"
          },
          "metadata": {}
        }
      ]
    },
    {
      "cell_type": "markdown",
      "source": [
        "# Model for fake images\n"
      ],
      "metadata": {
        "id": "ffN4zYLRkPXS"
      }
    },
    {
      "cell_type": "code",
      "source": [
        "!unzip -u '/content/drive/MyDrive/fakes_accuracy.zip' -d '/content/data2'\n",
        "\n",
        "from IPython. display import clear_output\n",
        "clear_output()"
      ],
      "metadata": {
        "id": "mYqGBQpBb2mr"
      },
      "execution_count": null,
      "outputs": []
    },
    {
      "cell_type": "code",
      "source": [
        "import os\n",
        "import csv\n",
        "\n",
        "# Replace \"folder_path\" with the path to the folder you want to list files from\n",
        "folder_path = \"/content/data2/fakes_accuracy\"\n",
        "\n",
        "# Get a list of all files in the folder\n",
        "file_names = os.listdir(folder_path)\n",
        "\n",
        "# Create a new CSV file called \"file_names.csv\"\n",
        "with open(\"annotations2.csv\", \"w\") as csv_file:\n",
        "    # Create a CSV writer object\n",
        "    csv_writer = csv.writer(csv_file)\n",
        "\n",
        "    # Write a header row to the CSV file\n",
        "    csv_writer.writerow([\"image\",'label'])\n",
        "\n",
        "    # Write the name of each file to a new row in the CSV file\n",
        "    for file_name in file_names:\n",
        "        csv_writer.writerow([file_name,0])\n",
        "        "
      ],
      "metadata": {
        "id": "IVGNuJIWb2kt"
      },
      "execution_count": null,
      "outputs": []
    },
    {
      "cell_type": "code",
      "source": [
        "data2=CustomImageDataset('/content/annotations2.csv','/content/data2/fakes_accuracy',\n",
        "                        transform=transforms.Compose([\n",
        "                        transforms.ToPILImage(),\n",
        "                        transforms.Resize(64),\n",
        "                        transforms.CenterCrop(256),\n",
        "                        transforms.ToTensor(),\n",
        "                        transforms.Normalize((0.5, 0.5, 0.5), (0.5, 0.5, 0.5))\n",
        "                      ]))\n",
        "\n",
        "len(data2)"
      ],
      "metadata": {
        "colab": {
          "base_uri": "https://localhost:8080/"
        },
        "id": "nbun0qujb2ia",
        "outputId": "237622ad-a930-4025-a651-f572bcecd0aa"
      },
      "execution_count": null,
      "outputs": [
        {
          "output_type": "execute_result",
          "data": {
            "text/plain": [
              "9472"
            ]
          },
          "metadata": {},
          "execution_count": 46
        }
      ]
    },
    {
      "cell_type": "code",
      "source": [
        "train_data2,test_data2=torch.utils.data.random_split(data2,[7672,1800])\n",
        "\n",
        "train_loader2=DataLoader(train_data2, batch_size=32, shuffle=True)\n",
        "test_loader2=DataLoader(test_data2, batch_size=32, shuffle=True)"
      ],
      "metadata": {
        "id": "zZTXnRzZb2f3"
      },
      "execution_count": null,
      "outputs": []
    },
    {
      "cell_type": "code",
      "source": [
        "learning_rate2=1e-4\n",
        "num_epochs2=10"
      ],
      "metadata": {
        "id": "gvvD7HrAb2ba"
      },
      "execution_count": null,
      "outputs": []
    },
    {
      "cell_type": "code",
      "source": [
        "class AccuracyCheck2(nn.Module):\n",
        "    def __init__(self):\n",
        "        super(AccuracyCheck2,self).__init__()\n",
        "\n",
        "        self.m=nn.Softmax(dim=1)\n",
        "\n",
        "        self.maxpool=nn.MaxPool2d(2,2)\n",
        "\n",
        "        self.conv1=nn.Conv2d(3,32,2) \n",
        "        self.conv2=nn.Conv2d(32,64,2)\n",
        "        self.conv3=nn.Conv2d(64,128,2)\n",
        "        self.conv4=nn.Conv2d(128,50,2)\n",
        "\n",
        "        self.fc1=nn.Linear(50*15*15,10)\n",
        "        self.fc2=nn.Linear(10,3)\n",
        "\n",
        "    def forward(self, x):\n",
        "        x=self.maxpool(F.relu(self.conv1(x)))\n",
        "        x=self.maxpool(F.relu(self.conv2(x)))\n",
        "        x=self.maxpool(F.relu(self.conv3(x)))\n",
        "        x=self.maxpool(F.relu(self.conv4(x)))\n",
        "\n",
        "        x=x.view(-1, 50*15*15)\n",
        "\n",
        "        x = torch.relu(self.fc1(x))\n",
        "        x = self.fc2(x)\n",
        "        x=self.m(x)\n",
        "\n",
        "        return x"
      ],
      "metadata": {
        "id": "Un1RJ4QWcx6a"
      },
      "execution_count": null,
      "outputs": []
    },
    {
      "cell_type": "code",
      "source": [
        "model2=AccuracyCheck2().to(device)"
      ],
      "metadata": {
        "id": "0FsPgH9zb2ZM"
      },
      "execution_count": null,
      "outputs": []
    },
    {
      "cell_type": "code",
      "source": [
        "optimizer2=torch.optim.Adam(model2.parameters(),lr=learning_rate2)"
      ],
      "metadata": {
        "id": "Kkt8rc6wb2W8"
      },
      "execution_count": null,
      "outputs": []
    },
    {
      "cell_type": "code",
      "source": [
        "x,y=train_data2[210]\n",
        "print('input size: ',x.shape)\n",
        "\n",
        "x=x.to(device)\n",
        "output=model2(x)\n",
        "#print('output size: ',output.shape)\n",
        "\n",
        "print('output: ',output)\n",
        "print('y: ',y)\n",
        "\n",
        "\n",
        "loss=criterion1(output, y)\n",
        "print('loss value: ',loss.item())"
      ],
      "metadata": {
        "colab": {
          "base_uri": "https://localhost:8080/"
        },
        "id": "P33ymIjHb2Uh",
        "outputId": "c21c8b34-fb86-4071-88ac-a5c896438b13"
      },
      "execution_count": null,
      "outputs": [
        {
          "output_type": "stream",
          "name": "stdout",
          "text": [
            "input size:  torch.Size([3, 256, 256])\n",
            "output:  tensor([[0.3443, 0.3912, 0.2645]], device='cuda:0', grad_fn=<SoftmaxBackward0>)\n",
            "y:  0\n",
            "loss value:  0.0\n"
          ]
        }
      ]
    },
    {
      "cell_type": "code",
      "source": [
        "import os\n",
        "\n",
        "directory = \"/content/data2/fakes_accuracy\"\n",
        "for file in os.listdir(directory):\n",
        "    file_path = os.path.join(directory, file)\n",
        "    if os.path.isfile(file_path):\n",
        "        file_extension = os.path.splitext(file_path)[1]\n",
        "        if(file_extension=='.png' or file_extension=='.jpg'):\n",
        "            continue\n",
        "        else:\n",
        "            print(file_extension)"
      ],
      "metadata": {
        "id": "6Q3Gvunsb2SK"
      },
      "execution_count": null,
      "outputs": []
    },
    {
      "cell_type": "code",
      "source": [
        "n_total_steps=len(train_loader2)\n",
        "n_total_steps"
      ],
      "metadata": {
        "colab": {
          "base_uri": "https://localhost:8080/"
        },
        "id": "xK0hix6We8XZ",
        "outputId": "3bebb5e2-46e2-43c8-a59f-8598b86012eb"
      },
      "execution_count": null,
      "outputs": [
        {
          "output_type": "execute_result",
          "data": {
            "text/plain": [
              "240"
            ]
          },
          "metadata": {},
          "execution_count": 54
        }
      ]
    },
    {
      "cell_type": "code",
      "source": [
        "def train_network2(train_loader,optimizer,criterion,num_epochs):\n",
        "      for epoch in range(num_epochs):\n",
        "            train_loss=0.0\n",
        "\n",
        "            for i,data in enumerate(train_loader,0):\n",
        "                images,labels=data\n",
        "                images=images.to(device)\n",
        "                labels=labels.to(device)\n",
        "\n",
        "                optimizer.zero_grad()\n",
        "\n",
        "                outputs=model2(images)\n",
        "                #print(outputs.shape,labels.shape)\n",
        "                #print(outputs)\n",
        "\n",
        "                onehot=torch.nn.functional.one_hot(labels,num_classes=3)\n",
        "                # print(outputs)\n",
        "                # print(onehot)\n",
        "          \n",
        "                #loss function\n",
        "                loss=criterion(outputs,onehot)\n",
        "                loss.backward()    #finding the derivative of loss function wrt to coefficients\n",
        "\n",
        "                optimizer.step()        #calulating the gradients\n",
        "\n",
        "                train_loss+=loss\n",
        "\n",
        "                #print statistics\n",
        "                if((i+1)%200==0):\n",
        "                    print(f'Epoch [{epoch+1}/{num_epochs}], Step [{i+1}/{n_total_steps}], Loss: {train_loss:.4f}')"
      ],
      "metadata": {
        "id": "kzOnw6ZgmW__"
      },
      "execution_count": null,
      "outputs": []
    },
    {
      "cell_type": "code",
      "source": [
        "train_network2(train_loader2,optimizer2,criterion1,num_epochs2)"
      ],
      "metadata": {
        "id": "Sy0CuvdQmeAk",
        "colab": {
          "base_uri": "https://localhost:8080/"
        },
        "outputId": "6b255bea-9026-437f-b204-142fb3cd18fe"
      },
      "execution_count": null,
      "outputs": [
        {
          "output_type": "stream",
          "name": "stdout",
          "text": [
            "Epoch [1/10], Step [200/240], Loss: 682.5041\n",
            "Epoch [2/10], Step [200/240], Loss: -0.0596\n",
            "Epoch [3/10], Step [200/240], Loss: -0.0624\n",
            "Epoch [4/10], Step [200/240], Loss: -0.0633\n",
            "Epoch [5/10], Step [200/240], Loss: -0.0636\n",
            "Epoch [6/10], Step [200/240], Loss: -0.0641\n",
            "Epoch [7/10], Step [200/240], Loss: -0.0641\n",
            "Epoch [8/10], Step [200/240], Loss: -0.0641\n",
            "Epoch [9/10], Step [200/240], Loss: -0.0641\n",
            "Epoch [10/10], Step [200/240], Loss: -0.0641\n"
          ]
        }
      ]
    },
    {
      "cell_type": "code",
      "source": [
        "def test_model2(test_loader,model,criterion):\n",
        "\n",
        "    model.eval()\n",
        "    test_loss,correct=0,0\n",
        "    num_batches=len(test_loader)\n",
        "    size=len(test_loader.dataset)\n",
        "\n",
        "    y_true = []\n",
        "    y_pred = []\n",
        "\n",
        "    with torch.no_grad():\n",
        "        for X,y in test_loader:\n",
        "            X=X.to(device)\n",
        "            y=y.to(device)\n",
        "            tmp=torch.nn.functional.one_hot(y,num_classes=3)\n",
        "\n",
        "            outputs=model(X)\n",
        "\n",
        "            test_loss=test_loss+criterion(outputs,tmp).item()\n",
        "            pred = outputs.argmax(dim=1, keepdim=True)\n",
        "\n",
        "            correct += pred.eq(y.view_as(pred)).sum().item()\n",
        "\n",
        "            y_true.extend(y.tolist())\n",
        "            y_pred.extend(pred.view_as(y).tolist())\n",
        "            \n",
        "    test_loss=test_loss/num_batches\n",
        "    correct=correct/size\n",
        "\n",
        "    accuracy = accuracy_score(y_true, y_pred)\n",
        "    precision = precision_score(y_true, y_pred, average='macro')\n",
        "    recall = recall_score(y_true, y_pred, average='macro')\n",
        "    f1 = f1_score(y_true, y_pred, average='macro')\n",
        "    cm = confusion_matrix(y_true, y_pred)\n",
        "\n",
        "    return accuracy,precision,recall,f1,cm"
      ],
      "metadata": {
        "id": "NSE4G68ujmq_"
      },
      "execution_count": null,
      "outputs": []
    },
    {
      "cell_type": "code",
      "source": [
        "a,p,r,f1,cm=test_model2(test_loader2,model2,criterion1)\n",
        "\n",
        "print(f'accuracy: {a:.4f}')\n",
        "print(f'precision: {p:.4f}')\n",
        "print(f'recall: {r:.4f}')\n",
        "print(f'F1 score: {f1:.4f}')"
      ],
      "metadata": {
        "id": "hnH8nVcCic31",
        "colab": {
          "base_uri": "https://localhost:8080/"
        },
        "outputId": "35378ec4-96f8-462e-e758-374c8309c43d"
      },
      "execution_count": null,
      "outputs": [
        {
          "output_type": "stream",
          "name": "stdout",
          "text": [
            "accuracy: 1.0000\n",
            "precision: 1.0000\n",
            "recall: 1.0000\n",
            "F1 score: 1.0000\n"
          ]
        }
      ]
    },
    {
      "cell_type": "code",
      "source": [
        "import seaborn as sns\n",
        "\n",
        "sns.set()\n",
        "sns.heatmap(cm, annot=True, cmap=\"Blues\", fmt=\"d\", xticklabels=[\"Class 0\", \"Class 1\"], yticklabels=[\"Class 0\", \"Class 1\"])\n",
        "plt.xlabel(\"Predicted label\")\n",
        "plt.ylabel(\"True label\")\n",
        "plt.show()"
      ],
      "metadata": {
        "id": "xlGfpnQEic20",
        "colab": {
          "base_uri": "https://localhost:8080/",
          "height": 458
        },
        "outputId": "c9cc8cde-bd10-4cb6-a3ba-1d5528377d22"
      },
      "execution_count": null,
      "outputs": [
        {
          "output_type": "display_data",
          "data": {
            "text/plain": [
              "<Figure size 640x480 with 2 Axes>"
            ],
            "image/png": "[encoded data removed]"
          },
          "metadata": {}
        }
      ]
    },
    {
      "cell_type": "markdown",
      "source": [
        "# Model4 for fake images"
      ],
      "metadata": {
        "id": "BVgcdxIvrGBG"
      }
    },
    {
      "cell_type": "code",
      "source": [
        "model4=AccuracyCheck3().to(device)\n",
        "learning_rate4=2e-4"
      ],
      "metadata": {
        "id": "UbUSHwmZrFim"
      },
      "execution_count": null,
      "outputs": []
    },
    {
      "cell_type": "code",
      "source": [
        "optimizer4=torch.optim.Adam(model4.parameters(),lr=learning_rate4)"
      ],
      "metadata": {
        "id": "1Unhu8VHrFgR"
      },
      "execution_count": null,
      "outputs": []
    },
    {
      "cell_type": "code",
      "source": [
        "x,y=train_data2[210]\n",
        "print('input size: ',x.shape)\n",
        "\n",
        "x=x.to(device)\n",
        "output=model2(x)\n",
        "#print('output size: ',output.shape)\n",
        "\n",
        "print('output: ',output)\n",
        "print('y: ',y)\n",
        "\n",
        "\n",
        "loss=criterion1(output, y)\n",
        "print('loss value: ',loss.item())"
      ],
      "metadata": {
        "colab": {
          "base_uri": "https://localhost:8080/"
        },
        "id": "uhkFl0QTrFeE",
        "outputId": "58285419-ec8b-4a04-d76b-a16558986a10"
      },
      "execution_count": null,
      "outputs": [
        {
          "output_type": "stream",
          "name": "stdout",
          "text": [
            "input size:  torch.Size([3, 256, 256])\n",
            "output:  tensor([[1.0000e+00, 4.5183e-08, 6.5519e-11]], device='cuda:0',\n",
            "       grad_fn=<SoftmaxBackward0>)\n",
            "y:  0\n",
            "loss value:  0.0\n"
          ]
        }
      ]
    },
    {
      "cell_type": "code",
      "source": [
        "def train_network4(train_loader,optimizer,criterion,num_epochs):\n",
        "      for epoch in range(num_epochs):\n",
        "            train_loss=0.0\n",
        "\n",
        "            for i,data in enumerate(train_loader,0):\n",
        "                images,labels=data\n",
        "                images=images.to(device)\n",
        "                labels=labels.to(device)\n",
        "\n",
        "                optimizer.zero_grad()\n",
        "\n",
        "                outputs=model4(images)\n",
        "                #print(outputs.shape,labels.shape)\n",
        "                #print(outputs)\n",
        "\n",
        "                onehot=torch.nn.functional.one_hot(labels,num_classes=3)\n",
        "                # print(outputs)\n",
        "                # print(onehot)\n",
        "          \n",
        "                #loss function\n",
        "                loss=criterion(outputs,onehot)\n",
        "                loss.backward()    #finding the derivative of loss function wrt to coefficients\n",
        "\n",
        "                optimizer.step()        #calulating the gradients\n",
        "\n",
        "                train_loss+=loss\n",
        "\n",
        "                #print statistics\n",
        "                if((i+1)%200==0):\n",
        "                    print(f'Epoch [{epoch+1}/{num_epochs}], Step [{i+1}/{n_total_steps}], Loss: {train_loss:.4f}')"
      ],
      "metadata": {
        "id": "ScEU-aDtrFbp"
      },
      "execution_count": null,
      "outputs": []
    },
    {
      "cell_type": "code",
      "source": [
        "train_network4(train_loader2,optimizer4,criterion1,num_epochs2)"
      ],
      "metadata": {
        "colab": {
          "base_uri": "https://localhost:8080/"
        },
        "id": "surlVdBurFZf",
        "outputId": "fe2e10ef-8c17-479c-c559-699a941d883e"
      },
      "execution_count": null,
      "outputs": [
        {
          "output_type": "stream",
          "name": "stdout",
          "text": [
            "Epoch [1/10], Step [200/240], Loss: 188.2401\n",
            "Epoch [2/10], Step [200/240], Loss: -0.0641\n",
            "Epoch [3/10], Step [200/240], Loss: -0.0641\n",
            "Epoch [4/10], Step [200/240], Loss: -0.0641\n",
            "Epoch [5/10], Step [200/240], Loss: -0.0641\n",
            "Epoch [6/10], Step [200/240], Loss: -0.0641\n",
            "Epoch [7/10], Step [200/240], Loss: -0.0641\n",
            "Epoch [8/10], Step [200/240], Loss: -0.0641\n",
            "Epoch [9/10], Step [200/240], Loss: -0.0641\n",
            "Epoch [10/10], Step [200/240], Loss: -0.0641\n"
          ]
        }
      ]
    },
    {
      "cell_type": "code",
      "source": [
        "def test_model4(test_loader,model,criterion):\n",
        "\n",
        "    model.eval()\n",
        "    test_loss,correct=0,0\n",
        "    num_batches=len(test_loader)\n",
        "    size=len(test_loader.dataset)\n",
        "\n",
        "    y_true = []\n",
        "    y_pred = []\n",
        "\n",
        "    with torch.no_grad():\n",
        "        for X,y in test_loader:\n",
        "            X=X.to(device)\n",
        "            y=y.to(device)\n",
        "            tmp=torch.nn.functional.one_hot(y,num_classes=3)\n",
        "\n",
        "            outputs=model(X)\n",
        "\n",
        "            test_loss=test_loss+criterion(outputs,tmp).item()\n",
        "            pred = outputs.argmax(dim=1, keepdim=True)\n",
        "\n",
        "            correct += pred.eq(y.view_as(pred)).sum().item()\n",
        "\n",
        "            y_true.extend(y.tolist())\n",
        "            y_pred.extend(pred.view_as(y).tolist())\n",
        "            \n",
        "    test_loss=test_loss/num_batches\n",
        "    correct=correct/size\n",
        "\n",
        "    accuracy = accuracy_score(y_true, y_pred)\n",
        "    precision = precision_score(y_true, y_pred, average='macro')\n",
        "    recall = recall_score(y_true, y_pred, average='macro')\n",
        "    f1 = f1_score(y_true, y_pred, average='macro')\n",
        "    cm = confusion_matrix(y_true, y_pred)\n",
        "\n",
        "    return accuracy,precision,recall,f1,cm"
      ],
      "metadata": {
        "id": "4_rMcE3PrFXN"
      },
      "execution_count": null,
      "outputs": []
    },
    {
      "cell_type": "code",
      "source": [
        "a,p,r,f1,cm=test_model4(test_loader2,model4,criterion1)\n",
        "\n",
        "print(f'accuracy: {a:.4f}')\n",
        "print(f'precision: {p:.4f}')\n",
        "print(f'recall: {r:.4f}')\n",
        "print(f'F1 score: {f1:.4f}')"
      ],
      "metadata": {
        "colab": {
          "base_uri": "https://localhost:8080/"
        },
        "id": "1nE85in0rFUe",
        "outputId": "f6427817-aebc-4f1c-e356-84bf87e872f2"
      },
      "execution_count": null,
      "outputs": [
        {
          "output_type": "stream",
          "name": "stdout",
          "text": [
            "accuracy: 1.0000\n",
            "precision: 1.0000\n",
            "recall: 1.0000\n",
            "F1 score: 1.0000\n"
          ]
        }
      ]
    },
    {
      "cell_type": "code",
      "source": [
        "import seaborn as sns\n",
        "\n",
        "sns.set()\n",
        "sns.heatmap(cm, annot=True, cmap=\"Blues\", fmt=\"d\", xticklabels=[\"Class 0\", \"Class 1\"], yticklabels=[\"Class 0\", \"Class 1\"])\n",
        "plt.xlabel(\"Predicted label\")\n",
        "plt.ylabel(\"True label\")\n",
        "plt.show()"
      ],
      "metadata": {
        "colab": {
          "base_uri": "https://localhost:8080/",
          "height": 458
        },
        "id": "-QFj0PPVrprI",
        "outputId": "addd95d7-cd4b-470e-e4ad-3189d975b138"
      },
      "execution_count": null,
      "outputs": [
        {
          "output_type": "display_data",
          "data": {
            "text/plain": [
              "<Figure size 640x480 with 2 Axes>"
            ],
            "image/png": "[encoded data removed]"
          },
          "metadata": {}
        }
      ]
    },
    {
      "cell_type": "markdown",
      "source": [
        "# Ensemble model for fakes\n"
      ],
      "metadata": {
        "id": "-0iswpwXtT3N"
      }
    },
    {
      "cell_type": "code",
      "source": [
        "model_af=AccuracyCheck2().to(device)\n",
        "model_bf=AccuracyCheck3().to(device)\n",
        "#model_c=AccuracyCheck3().to(device)"
      ],
      "metadata": {
        "id": "vEl4wCOk1Neb"
      },
      "execution_count": null,
      "outputs": []
    },
    {
      "cell_type": "code",
      "source": [
        "ensemble_fake = EnsembleModel(model_af,model_bf).to(device)"
      ],
      "metadata": {
        "id": "QYTW0TgWxJFT"
      },
      "execution_count": null,
      "outputs": []
    },
    {
      "cell_type": "code",
      "source": [
        "optimizer_fake = torch.optim.SGD(ensemble_fake.parameters(), lr=0.01)"
      ],
      "metadata": {
        "id": "yPqS4DX5xJEH"
      },
      "execution_count": null,
      "outputs": []
    },
    {
      "cell_type": "code",
      "source": [
        "train_data,test_data=torch.utils.data.random_split(data2,[7672,1800])\n",
        "\n",
        "train_loader=DataLoader(train_data, batch_size=32, shuffle=True)\n",
        "test_loader=DataLoader(test_data, batch_size=32, shuffle=True)"
      ],
      "metadata": {
        "id": "e_nTa89Ox1DZ"
      },
      "execution_count": null,
      "outputs": []
    },
    {
      "cell_type": "code",
      "source": [
        "x,y=train_data[19]\n",
        "print('input size: ',x.shape)\n",
        "\n",
        "x=x.to(device)\n",
        "\n",
        "output=ensemble(x)\n",
        "print('output size: ',output.shape)\n",
        "print('output: ',output)\n",
        "print('y: ',y)\n",
        "\n",
        "y= np.array([y])\n",
        "y=torch.from_numpy(y)\n",
        "y=y.to(device)\n",
        "\n",
        "loss=lossFunction(output, y)\n",
        "print('loss value: ',loss.item())"
      ],
      "metadata": {
        "id": "8X-0LP8r1lSh",
        "colab": {
          "base_uri": "https://localhost:8080/"
        },
        "outputId": "9418c0c3-048c-4cc8-8f16-6cbcceb9b35c"
      },
      "execution_count": null,
      "outputs": [
        {
          "output_type": "stream",
          "name": "stdout",
          "text": [
            "input size:  torch.Size([3, 256, 256])\n",
            "output size:  torch.Size([1, 2])\n",
            "output:  tensor([[-0.1780, 53.2967]], device='cuda:0', grad_fn=<AddmmBackward0>)\n",
            "y:  0\n",
            "loss value:  0.0\n"
          ]
        }
      ]
    },
    {
      "cell_type": "code",
      "source": [
        "steps=len(train_loader)\n",
        "steps"
      ],
      "metadata": {
        "id": "CQKSp5IWycXC",
        "colab": {
          "base_uri": "https://localhost:8080/"
        },
        "outputId": "7c72bc26-e077-48ff-82e5-f1055d370dfc"
      },
      "execution_count": null,
      "outputs": [
        {
          "output_type": "execute_result",
          "data": {
            "text/plain": [
              "240"
            ]
          },
          "metadata": {},
          "execution_count": 73
        }
      ]
    },
    {
      "cell_type": "code",
      "source": [
        "def train_fake(model,optimizer,criterion,train_loader,num_epochs):\n",
        "    model.train()\n",
        "    train_loss=0.0\n",
        "    \n",
        "    for epoch in range(num_epochs):\n",
        "        for i,data in enumerate(train_loader,0):\n",
        "            images,labels=data\n",
        "            \n",
        "            images=images.to(device)\n",
        "            labels=labels.to(device)\n",
        "\n",
        "            optimizer.zero_grad()\n",
        "            outputs = model(images)\n",
        "            #print(outputs.shape,labels.shape)\n",
        "\n",
        "            onehot=torch.nn.functional.one_hot(labels,num_classes=2)\n",
        "\n",
        "            loss = criterion(outputs,onehot)\n",
        "            train_loss+=loss\n",
        "\n",
        "            loss.backward()\n",
        "            optimizer.step()\n",
        "\n",
        "            #print statistics\n",
        "            if((i+1)%100==0):\n",
        "                print(f'Epoch [{epoch+1}/{num_epochs}], Step [{i+1}/{steps}], Loss: {train_loss:.4f}')"
      ],
      "metadata": {
        "id": "7rFYMp3lxT6A"
      },
      "execution_count": null,
      "outputs": []
    },
    {
      "cell_type": "code",
      "source": [
        "train_fake(ensemble,optimizer,lossFunction,train_loader,num_epochs=50)"
      ],
      "metadata": {
        "id": "Pn5A5xvTwyGq",
        "colab": {
          "base_uri": "https://localhost:8080/"
        },
        "outputId": "3be1e183-67f4-4644-e0c2-aebaeb55a2f7"
      },
      "execution_count": null,
      "outputs": [
        {
          "output_type": "stream",
          "name": "stdout",
          "text": [
            "Epoch [1/50], Step [100/240], Loss: -7411.5776\n",
            "Epoch [1/50], Step [200/240], Loss: -16601.8184\n",
            "Epoch [2/50], Step [100/240], Loss: -30678.4512\n",
            "Epoch [2/50], Step [200/240], Loss: -41325.1211\n",
            "Epoch [3/50], Step [100/240], Loss: -56782.6562\n",
            "Epoch [3/50], Step [200/240], Loss: -68175.7812\n",
            "Epoch [4/50], Step [100/240], Loss: -84477.9844\n",
            "Epoch [4/50], Step [200/240], Loss: -96377.6172\n",
            "Epoch [5/50], Step [100/240], Loss: -113290.9141\n",
            "Epoch [5/50], Step [200/240], Loss: -125574.5547\n",
            "Epoch [6/50], Step [100/240], Loss: -142966.9688\n",
            "Epoch [6/50], Step [200/240], Loss: -155560.0156\n",
            "Epoch [7/50], Step [100/240], Loss: -173346.7969\n",
            "Epoch [7/50], Step [200/240], Loss: -186198.9531\n",
            "Epoch [8/50], Step [100/240], Loss: -204320.7656\n",
            "Epoch [8/50], Step [200/240], Loss: -217395.8594\n",
            "Epoch [9/50], Step [100/240], Loss: -235808.9844\n",
            "Epoch [9/50], Step [200/240], Loss: -249079.7344\n",
            "Epoch [10/50], Step [100/240], Loss: -267750.4688\n",
            "Epoch [10/50], Step [200/240], Loss: -281195.5000\n",
            "Epoch [11/50], Step [100/240], Loss: -300097.2188\n",
            "Epoch [11/50], Step [200/240], Loss: -313699.4062\n",
            "Epoch [12/50], Step [100/240], Loss: -332810.5625\n",
            "Epoch [12/50], Step [200/240], Loss: -346555.8438\n",
            "Epoch [13/50], Step [100/240], Loss: -365858.4062\n",
            "Epoch [13/50], Step [200/240], Loss: -379734.9062\n",
            "Epoch [14/50], Step [100/240], Loss: -399213.7188\n",
            "Epoch [14/50], Step [200/240], Loss: -413211.6875\n",
            "Epoch [15/50], Step [100/240], Loss: -432853.9375\n",
            "Epoch [15/50], Step [200/240], Loss: -446964.6875\n",
            "Epoch [16/50], Step [100/240], Loss: -466759.2188\n",
            "Epoch [16/50], Step [200/240], Loss: -480975.3438\n",
            "Epoch [17/50], Step [100/240], Loss: -500912.4375\n",
            "Epoch [17/50], Step [200/240], Loss: -515227.4062\n",
            "Epoch [18/50], Step [100/240], Loss: -535298.5000\n",
            "Epoch [18/50], Step [200/240], Loss: -549706.5625\n",
            "Epoch [19/50], Step [100/240], Loss: -569904.0625\n",
            "Epoch [19/50], Step [200/240], Loss: -584400.2500\n",
            "Epoch [20/50], Step [100/240], Loss: -604717.4375\n",
            "Epoch [20/50], Step [200/240], Loss: -619296.8125\n",
            "Epoch [21/50], Step [100/240], Loss: -639727.6875\n",
            "Epoch [21/50], Step [200/240], Loss: -654386.4375\n",
            "Epoch [22/50], Step [100/240], Loss: -674925.2500\n",
            "Epoch [22/50], Step [200/240], Loss: -689659.5000\n",
            "Epoch [23/50], Step [100/240], Loss: -710301.3750\n",
            "Epoch [23/50], Step [200/240], Loss: -725107.6875\n",
            "Epoch [24/50], Step [100/240], Loss: -745848.2500\n",
            "Epoch [24/50], Step [200/240], Loss: -760723.5000\n",
            "Epoch [25/50], Step [100/240], Loss: -781558.3750\n",
            "Epoch [25/50], Step [200/240], Loss: -796499.9375\n",
            "Epoch [26/50], Step [100/240], Loss: -817425.4375\n",
            "Epoch [26/50], Step [200/240], Loss: -832430.4375\n",
            "Epoch [27/50], Step [100/240], Loss: -853442.8750\n",
            "Epoch [27/50], Step [200/240], Loss: -868509.0000\n",
            "Epoch [28/50], Step [100/240], Loss: -889605.5625\n",
            "Epoch [28/50], Step [200/240], Loss: -904730.5625\n",
            "Epoch [29/50], Step [100/240], Loss: -925907.6875\n",
            "Epoch [29/50], Step [200/240], Loss: -941089.4375\n",
            "Epoch [30/50], Step [100/240], Loss: -962344.5000\n",
            "Epoch [30/50], Step [200/240], Loss: -977580.9375\n",
            "Epoch [31/50], Step [100/240], Loss: -998911.2500\n",
            "Epoch [31/50], Step [200/240], Loss: -1014200.9375\n",
            "Epoch [32/50], Step [100/240], Loss: -1035604.1875\n",
            "Epoch [32/50], Step [200/240], Loss: -1050945.0000\n",
            "Epoch [33/50], Step [100/240], Loss: -1072418.1250\n",
            "Epoch [33/50], Step [200/240], Loss: -1087809.2500\n",
            "Epoch [34/50], Step [100/240], Loss: -1109351.1250\n",
            "Epoch [34/50], Step [200/240], Loss: -1124790.2500\n",
            "Epoch [35/50], Step [100/240], Loss: -1146398.7500\n",
            "Epoch [35/50], Step [200/240], Loss: -1161883.6250\n",
            "Epoch [36/50], Step [100/240], Loss: -1183556.8750\n",
            "Epoch [36/50], Step [200/240], Loss: -1199088.0000\n",
            "Epoch [37/50], Step [100/240], Loss: -1220823.6250\n",
            "Epoch [37/50], Step [200/240], Loss: -1236399.0000\n",
            "Epoch [38/50], Step [100/240], Loss: -1258195.6250\n",
            "Epoch [38/50], Step [200/240], Loss: -1273814.0000\n",
            "Epoch [39/50], Step [100/240], Loss: -1295670.0000\n",
            "Epoch [39/50], Step [200/240], Loss: -1311329.1250\n",
            "Epoch [40/50], Step [100/240], Loss: -1333243.3750\n",
            "Epoch [40/50], Step [200/240], Loss: -1348944.8750\n",
            "Epoch [41/50], Step [100/240], Loss: -1370914.5000\n",
            "Epoch [41/50], Step [200/240], Loss: -1386656.0000\n",
            "Epoch [42/50], Step [100/240], Loss: -1408680.7500\n",
            "Epoch [42/50], Step [200/240], Loss: -1424460.7500\n",
            "Epoch [43/50], Step [100/240], Loss: -1446539.1250\n",
            "Epoch [43/50], Step [200/240], Loss: -1462356.8750\n",
            "Epoch [44/50], Step [100/240], Loss: -1484487.6250\n",
            "Epoch [44/50], Step [200/240], Loss: -1500342.5000\n",
            "Epoch [45/50], Step [100/240], Loss: -1522524.2500\n",
            "Epoch [45/50], Step [200/240], Loss: -1538415.5000\n",
            "Epoch [46/50], Step [100/240], Loss: -1560646.6250\n",
            "Epoch [46/50], Step [200/240], Loss: -1576573.5000\n",
            "Epoch [47/50], Step [100/240], Loss: -1598854.7500\n",
            "Epoch [47/50], Step [200/240], Loss: -1614815.0000\n",
            "Epoch [48/50], Step [100/240], Loss: -1637145.1250\n",
            "Epoch [48/50], Step [200/240], Loss: -1653139.7500\n",
            "Epoch [49/50], Step [100/240], Loss: -1675515.2500\n",
            "Epoch [49/50], Step [200/240], Loss: -1691543.5000\n",
            "Epoch [50/50], Step [100/240], Loss: -1713965.1250\n",
            "Epoch [50/50], Step [200/240], Loss: -1730025.2500\n"
          ]
        }
      ]
    },
    {
      "cell_type": "code",
      "source": [
        "def test_fake(test_loader,model,criterion):\n",
        "\n",
        "    model.eval()\n",
        "    test_loss,correct=0,0\n",
        "    num_batches=len(test_loader)\n",
        "    size=len(test_loader.dataset)\n",
        "\n",
        "    y_true = []\n",
        "    y_pred = []\n",
        "\n",
        "    with torch.no_grad():\n",
        "        for X,y in test_loader:\n",
        "            X=X.to(device)\n",
        "            y=y.to(device)\n",
        "            tmp=torch.nn.functional.one_hot(y,num_classes=2)\n",
        "\n",
        "            outputs=model(X)\n",
        "\n",
        "            test_loss=test_loss+criterion(outputs,tmp).item()\n",
        "            pred = outputs.argmax(dim=1, keepdim=True)\n",
        "\n",
        "            correct += pred.eq(y.view_as(pred)).sum().item()\n",
        "\n",
        "            y_true.extend(y.tolist())\n",
        "            y_pred.extend(pred.view_as(y).tolist())\n",
        "            \n",
        "    test_loss=test_loss/num_batches\n",
        "    correct=correct/size\n",
        "\n",
        "    accuracy = accuracy_score(y_true, y_pred)\n",
        "    precision = precision_score(y_true, y_pred, average='macro')\n",
        "    recall = recall_score(y_true, y_pred, average='macro')\n",
        "    f1 = f1_score(y_true, y_pred, average='macro')\n",
        "    cm = confusion_matrix(y_true, y_pred)\n",
        "\n",
        "    return accuracy,precision,recall,f1,cm"
      ],
      "metadata": {
        "id": "42Km4TID55vP"
      },
      "execution_count": null,
      "outputs": []
    },
    {
      "cell_type": "code",
      "source": [
        "a,p,r,f1,cm=test_fake(test_loader,ensemble,lossFunction)\n",
        "\n",
        "print(f'accuracy: {a:.4f}')\n",
        "print(f'precision: {p:.4f}')\n",
        "print(f'recall: {r:.4f}')\n",
        "print(f'F1 score: {f1:.4f}')"
      ],
      "metadata": {
        "colab": {
          "base_uri": "https://localhost:8080/"
        },
        "id": "rbP1nsEn9nmC",
        "outputId": "3c9302d9-bd4d-47e4-bf34-edf03d6dd81e"
      },
      "execution_count": null,
      "outputs": [
        {
          "output_type": "stream",
          "name": "stdout",
          "text": [
            "accuracy: 1.0000\n",
            "precision: 1.0000\n",
            "recall: 1.0000\n",
            "F1 score: 1.0000\n"
          ]
        }
      ]
    },
    {
      "cell_type": "code",
      "source": [
        "import seaborn as sns\n",
        "\n",
        "sns.set()\n",
        "sns.heatmap(cm, annot=True, cmap=\"Blues\", fmt=\"d\", xticklabels=[\"Class 0\", \"Class 1\"], yticklabels=[\"Class 0\", \"Class 1\"])\n",
        "plt.xlabel(\"Predicted label\")\n",
        "plt.ylabel(\"True label\")\n",
        "plt.show()"
      ],
      "metadata": {
        "colab": {
          "base_uri": "https://localhost:8080/",
          "height": 458
        },
        "id": "awV1E391VL_s",
        "outputId": "2e163c67-1d56-45c2-d20d-74390247d9bb"
      },
      "execution_count": null,
      "outputs": [
        {
          "output_type": "display_data",
          "data": {
            "text/plain": [
              "<Figure size 640x480 with 2 Axes>"
            ],
            "image/png": "[encoded data removed]"
          },
          "metadata": {}
        }
      ]
    }
  ],
  "metadata": {
    "accelerator": "GPU",
    "colab": {
      "provenance": [],
      "gpuType": "T4"
    },
    "gpuClass": "standard",
    "kernelspec": {
      "display_name": "Python 3",
      "name": "python3"
    },
    "language_info": {
      "name": "python"
    }
  },
  "nbformat": 4,
  "nbformat_minor": 0
}